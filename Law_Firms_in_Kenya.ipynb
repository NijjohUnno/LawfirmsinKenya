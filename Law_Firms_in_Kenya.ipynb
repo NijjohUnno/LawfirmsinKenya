{
  "nbformat": 4,
  "nbformat_minor": 0,
  "metadata": {
    "colab": {
      "provenance": [],
      "authorship_tag": "ABX9TyOBrWfVZbxyoCuPwmttKEcg",
      "include_colab_link": true
    },
    "kernelspec": {
      "name": "python3",
      "display_name": "Python 3"
    },
    "language_info": {
      "name": "python"
    }
  },
  "cells": [
    {
      "cell_type": "markdown",
      "metadata": {
        "id": "view-in-github",
        "colab_type": "text"
      },
      "source": [
        "<a href=\"https://colab.research.google.com/github/NijjohUnno/LawfirmsinKenya/blob/main/Law_Firms_in_Kenya.ipynb\" target=\"_parent\"><img src=\"https://colab.research.google.com/assets/colab-badge.svg\" alt=\"Open In Colab\"/></a>"
      ]
    },
    {
      "cell_type": "code",
      "execution_count": 5,
      "metadata": {
        "id": "YziavWmZ1Nsb"
      },
      "outputs": [],
      "source": [
        "import requests\n",
        "from bs4 import BeautifulSoup"
      ]
    },
    {
      "cell_type": "code",
      "source": [
        "url = 'https://www.lawfirmsinafrica.com/countrylawfirms/KE'\n",
        "response = requests.get(url)\n",
        "raw = response.text\n",
        "soup = BeautifulSoup(raw, \"html.parser\")\n",
        "print(soup.title)"
      ],
      "metadata": {
        "colab": {
          "base_uri": "https://localhost:8080/"
        },
        "id": "fxm6nezx1Ue7",
        "outputId": "eca30540-c4a6-45c6-d06a-c4c3616c810a"
      },
      "execution_count": 6,
      "outputs": [
        {
          "output_type": "stream",
          "name": "stdout",
          "text": [
            "<title>Full List of Law Firms in Kenya</title>\n"
          ]
        }
      ]
    }
  ]
}